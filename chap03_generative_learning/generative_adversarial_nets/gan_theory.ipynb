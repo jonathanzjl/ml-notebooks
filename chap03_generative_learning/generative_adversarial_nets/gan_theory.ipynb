{
 "cells": [
  {
   "cell_type": "markdown",
   "metadata": {},
   "source": [
    "\n",
    "# Generative adversarial networks\n",
    "\n",
    "**Generative adversarial networks** (GAN) are a general class of neural network architectures introduced by Goodfellow _et al._ in 2014. GAN was originally proposed as an unsupervised generative model, allowing for learning a mapping between a random distribution and the unlabeled source data distribution. Since then, the original designed has been adapted to perform a large variety of tasks, including data synthesis, image translation, image denoising, image super-resolution, domain adaptation and also some discriminative tasks. As of today, GAN represents one of the most active research area in Deep Learning. This article explains the theory behind GAN and introduces some of the state-of-the-art results in literature related to\n",
    "\n",
    "- Different GAN architecture variants\n",
    "- Challenges in training GAN and methods to stabilize the training\n",
    "- Measuring convergence and quality of GAN\n",
    "- Some of GAN's applications.\n",
    "\n",
    "### References\n",
    "\n",
    "- [1] [Generative adversarial nets](https://papers.nips.cc/paper/5423-generative-adversarial-nets)\n"
   ]
  },
  {
   "cell_type": "markdown",
   "metadata": {},
   "source": [
    "\n",
    "### Architecture\n",
    "\n",
    "- Domain adversarial networks\n",
    "- Conditional GAN\n",
    "- Cycle GAN\n",
    "- Stacked GAN\n",
    "- Progressive GAN\n",
    "- Self-Attention GAN\n",
    "\n",
    "### Techniques\n",
    "\n",
    "- Wasserstein GAN\n",
    "- WGAN with gradient penalty\n",
    "- LSGAN\n",
    "- EBGAN\n",
    "- BEGAN\n",
    "- DRAGAN\n",
    "- Spectral normalization\n",
    "- Minibatch discrimination\n",
    "- Relativistic discriminator\n"
   ]
  },
  {
   "cell_type": "markdown",
   "metadata": {},
   "source": [
    "\n",
    "## Cost functions for GAN from literature\n",
    "\n",
    "\n",
    "### Notations\n",
    "\n",
    "| Symbol | Explanation |\n",
    "| ------ | ----------- |\n",
    "| $G$    | The generator |\n",
    "| $D$    | The discriminator |\n",
    "| $\\mathbf{x}, p(\\mathbf{x})$ | Real data sample and the real data distribution |\n",
    "| $\\mathbf{z}, p(\\mathbf{z})$ | Latent sample and the latent distribution |\n",
    "\n",
    "### 1. **min-max** cost function\n",
    "\n",
    "#### Definition\n",
    "\n",
    "$$L(D,G) = \\mathbb{E}_{\\mathbf{x} \\sim p(\\mathbf{x})} \\left( \\log (D(x)) \\right) + \\mathbb{E}_{\\mathbf{z} \\sim p(\\mathbf{z})} \\left( \\log \\left(1 - D \\left( G \\left( \\mathbf{z} \\right) \\right) \\right) \\right) \\tag{1}$$\n",
    "\n",
    "#### Overview\n",
    "\n",
    "This is the cost function introduced in the original GAN paper (Goodfellow _et al._ 2014 [1]). The first term in (1) measures the performance of the discriminator $D$ in corretly predicting real samples ($\\mathbf{x}$). The second term in (1) measures the performance of the generator $G$, as well as the performance of the discriminator $D$ in correctly predicting generated samples ($G(\\mathbf{z}$)). The optimization process involves a **minimax** game in game theory. For a fixed discriminator $D$, the generator $G$ aims to maximize the cost function (1); while for a fixed generator $G$, the discriminator $D$ aims to minimize the cost function (1). That is,\n",
    "\n",
    "$$\\min_{D} \\max_{G} \\mathbb{E}_{\\mathbf{x} \\sim p(\\mathbf{x})} \\left( \\log (D(x)) \\right) + \\mathbb{E}_{\\mathbf{z} \\sim p(\\mathbf{z})} \\left( \\log \\left(1 - D \\left( G \\left( \\mathbf{z} \\right) \\right) \\right) \\right) \\tag{2}$$\n",
    "\n",
    "#### References\n",
    "\n"
   ]
  }
 ],
 "metadata": {
  "kernelspec": {
   "display_name": "Python 3",
   "language": "python",
   "name": "python3"
  },
  "language_info": {
   "codemirror_mode": {
    "name": "ipython",
    "version": 3
   },
   "file_extension": ".py",
   "mimetype": "text/x-python",
   "name": "python",
   "nbconvert_exporter": "python",
   "pygments_lexer": "ipython3",
   "version": "3.6.6"
  }
 },
 "nbformat": 4,
 "nbformat_minor": 2
}

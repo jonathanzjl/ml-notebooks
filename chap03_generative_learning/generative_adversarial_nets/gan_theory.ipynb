{
 "cells": [
  {
   "cell_type": "markdown",
   "metadata": {},
   "source": [
    "\n",
    "# Generative adversarial networks\n",
    "\n",
    "Generative adversarial networks (GANs) are a general class of neural network architecture introduced by Goodfellow _et al._ in 2014.\n",
    "\n",
    "### References\n",
    "\n",
    "- [1] [Generative adversarial nets](https://papers.nips.cc/paper/5423-generative-adversarial-nets)"
   ]
  },
  {
   "cell_type": "markdown",
   "metadata": {},
   "source": [
    "\n",
    "# Cost functions for GAN from literature\n",
    "\n",
    "\n",
    "### Notations\n",
    "\n",
    "| Symbol | Explanation |\n",
    "| ------ | ----------- |\n",
    "| $G$    | The generator |\n",
    "| $D$    | The discriminator |\n",
    "| $\\mathbf{x}, p(\\mathbf{x})$ | Real data sample and the real data distribution |\n",
    "| $\\mathbf{z}, p(\\mathbf{z})$ | Latent sample and the latent distribution |\n",
    "\n",
    "### 1. **min-max** cost function\n",
    "\n",
    "#### Definition\n",
    "\n",
    "$$L(D,G) = \\mathbb{E}_{\\mathbf{x} \\sim p(\\mathbf{x})} \\left( \\log (D(x)) \\right) + \\mathbb{E}_{\\mathbf{z} \\sim p(\\mathbf{z})} \\left( \\log \\left(1 - D \\left( G \\left( \\mathbf{z} \\right) \\right) \\right) \\right) \\tag{1}$$\n",
    "\n",
    "#### Overview\n",
    "\n",
    "This is the cost function introduced in the original GAN paper (Goodfellow _et al._ 2014 [1]). The first term in (1) measures the performance of the discriminator $D$ in corretly predicting real samples ($\\mathbf{x}$). The second term in (1) measures the performance of the generator $G$, as well as the performance of the discriminator $D$ in correctly predicting generated samples ($G(\\mathbf{z}$)). The optimization process involves a **minimax** game in game theory. For a fixed discriminator $D$, the generator $G$ aims to maximize the cost function (1); while for a fixed generator $G$, the discriminator $D$ aims to minimize the cost function (1). That is,\n",
    "\n",
    "$$\\min_{D} \\max_{G} \\mathbb{E}_{\\mathbf{x} \\sim p(\\mathbf{x})} \\left( \\log (D(x)) \\right) + \\mathbb{E}_{\\mathbf{z} \\sim p(\\mathbf{z})} \\left( \\log \\left(1 - D \\left( G \\left( \\mathbf{z} \\right) \\right) \\right) \\right) \\tag{2}$$\n",
    "\n",
    "#### References\n",
    "\n"
   ]
  }
 ],
 "metadata": {
  "kernelspec": {
   "display_name": "Python 3",
   "language": "python",
   "name": "python3"
  },
  "language_info": {
   "codemirror_mode": {
    "name": "ipython",
    "version": 3
   },
   "file_extension": ".py",
   "mimetype": "text/x-python",
   "name": "python",
   "nbconvert_exporter": "python",
   "pygments_lexer": "ipython3",
   "version": "3.6.6"
  }
 },
 "nbformat": 4,
 "nbformat_minor": 2
}
